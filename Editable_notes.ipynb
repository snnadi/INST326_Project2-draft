{
 "cells": [
  {
   "cell_type": "code",
   "execution_count": null,
   "id": "13eb385f-77f5-41c8-a1d0-5a9547b71ac2",
   "metadata": {},
   "outputs": [],
   "source": [
    "     \n",
    "  #  def display(self, index): For the display method\n",
    "        # Create Entry widget for title\n",
    "        title_label = ttk.Label(popup, text=\"Title:\")\n",
    "        title_label.grid(row=0, column=0, padx=5, pady=5)\n",
    "        title_entry = ttk.Entry(popup, text=selected_note.title)\n",
    "        title_entry.grid(row=0, column=1, padx=5, pady=5)\n",
    "\n",
    "        # Create Text widget for text content\n",
    "        text_label = ttk.Label(popup, text=\"Text:\")\n",
    "        text_label.grid(row=1, column=0, padx=5, pady=5)\n",
    "        text_entry = tk.Text(popup)\n",
    "        text_entry.insert(tk.END, selected_note.text)\n",
    "        text_entry.grid(row=1, column=1, padx=5, pady=5)\n",
    "        \n",
    "        # For now \n",
    "        meta_entry = tk.Text(popup)\n",
    "        meta_entry.insert(tk.END, selected_note.meta)\n",
    "        meta_entry.grid(row=1, column=2, padx=5, pady=5)\n",
    "        \n",
    "        # To save changes\n",
    "        def save_changes():\n",
    "            selected_note.title = title_entry.get()\n",
    "            selected_note.edit(title_entry.get(), text_entry.get(\"1.0\", tk.END).strip())  # Edited to use edit method\n",
    "            self.update_note_list()\n",
    "            popup.destroy()\n",
    "        save_button = ttk.Button(popup, text=\"Save Changes\", command=save_changes, style='Custom.TButton')\n",
    "        save_button.grid(row=2, column=0, columnspan=2, padx=5, pady=5)\n",
    "\n",
    "        # Button to view edit history\n",
    "        def view_history():\n",
    "            history_popup = tk.Toplevel()\n",
    "            history_popup.title(\"Edit History\")\n",
    "            history_text = tk.Text(history_popup)\n",
    "            for edit_time, edit_title, edit_text in selected_note.edit_history:\n",
    "                history_text.insert(tk.END, f\"{edit_time}: Title: {edit_title}, Text: {edit_text}\\n\\n\")\n",
    "            history_text.config(state=tk.DISABLED)\n",
    "            history_text.pack()\n"
   ]
  },
  {
   "cell_type": "raw",
   "id": "5fc7943c-5092-4911-ab3c-ec28f5ade4c3",
   "metadata": {},
   "source": [
    "For MakeNote Class"
   ]
  },
  {
   "cell_type": "code",
   "execution_count": null,
   "id": "e526a1eb-b6df-4bee-8d75-d4e2383741b5",
   "metadata": {},
   "outputs": [],
   "source": [
    "#class MakeNote():\n",
    "    #def __init__(self, note_dict):\n",
    "        #self.title = note_dict[\"title\"]\n",
    "       # self.text = note_dict[\"text\"]\n",
    "      #  self.meta = note_dict[\"meta\"]\n",
    "        self.edit_history = []\n",
    "        \n",
    "    def edit(self, new_title, new_text):\n",
    "        edit_time = datetime.datetime.now()\n",
    "        self.edit_history.append((edit_time, self.title, self.text))\n",
    "        self.title = new_title\n",
    "        self.text = new_text"
   ]
  }
 ],
 "metadata": {
  "kernelspec": {
   "display_name": "Python 3 (ipykernel)",
   "language": "python",
   "name": "python3"
  },
  "language_info": {
   "codemirror_mode": {
    "name": "ipython",
    "version": 3
   },
   "file_extension": ".py",
   "mimetype": "text/x-python",
   "name": "python",
   "nbconvert_exporter": "python",
   "pygments_lexer": "ipython3",
   "version": "3.11.4"
  }
 },
 "nbformat": 4,
 "nbformat_minor": 5
}
