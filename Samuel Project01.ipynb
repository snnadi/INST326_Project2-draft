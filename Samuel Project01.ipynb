{
 "cells": [
  {
   "cell_type": "markdown",
   "id": "3a9c5dfc",
   "metadata": {},
   "source": [
    "## INST326 Project 01: 21 Card Game"
   ]
  },
  {
   "cell_type": "markdown",
   "id": "7af4119b",
   "metadata": {},
   "source": [
    "#### Samuel Nnadi(replace my name with yours on this line and in the notebook name)"
   ]
  },
  {
   "cell_type": "markdown",
   "id": "05c81182",
   "metadata": {},
   "source": [
    "Refer to the game description included with the assignment for a description of the card game 21 and rules of play we will use for this project."
   ]
  },
  {
   "cell_type": "markdown",
   "id": "e2cfd992",
   "metadata": {},
   "source": [
    "Place any opening comments here"
   ]
  },
  {
   "cell_type": "markdown",
   "id": "ac57d15e",
   "metadata": {},
   "source": [
    "### Imports"
   ]
  },
  {
   "cell_type": "code",
   "execution_count": 1,
   "id": "5107854a",
   "metadata": {},
   "outputs": [],
   "source": [
    "import random\n",
    "from tkinter import * # see note below\n",
    "import tkinter as tk\n",
    "from tkinter import ttk"
   ]
  },
  {
   "cell_type": "markdown",
   "id": "661ed6b8",
   "metadata": {},
   "source": [
    "Note on the imports above\n",
    "from tkinter import * imports everything from tkinter directly into the main program. This is generally bad practice for several reasons including the potential for variable naming conflicts. It is provided here for compatibility with code examples from the BroCode videos. Your code would be better if you preceeded all calls to tkinter methods with tk. For example, window = tk.Tk() instead of window = Tk().\n",
    "\n",
    "import tkinter as tk also imports everything, but keeps all of the functionality separate from the main program space. This avoids potential naming conflicts, among other things. This is the preferred way to do it and it is used in the Cardbutton class below.\n",
    "\n",
    "from tkinter import ttk is technically redundant, but for a specific purpose. The ttk class in tkinter represents a significant upgrade in many of the methods originally included in tkinter. However, many applications were already running with regular tk functionality when ttk was released. While ttk is substantively better, the original tk was retained for backward compatibility. If you do more programming in tkinter beyond this course you should learn and program with ttk from the start. It is imported here specifically to distinguish between old tk and new ttk widgets in the code.\n"
   ]
  },
  {
   "cell_type": "markdown",
   "id": "c247d613",
   "metadata": {},
   "source": [
    "### Cardbutton Class"
   ]
  },
  {
   "cell_type": "markdown",
   "id": "cf618341",
   "metadata": {},
   "source": [
    "This class combines a built in tkinter class - Button() - and modifies it to add the attributes we want for our card buttons. This is called inheritance. Since we have not really covered this yet, this class is being provided for you to use in your program. Please take a few moments to review it so you understand what is going on in the class."
   ]
  },
  {
   "cell_type": "code",
   "execution_count": 2,
   "id": "ce155f29",
   "metadata": {},
   "outputs": [],
   "source": [
    "# creates a custom button that inherits all the features of a tk.Button() and adds card attributes\n",
    "class Cardbutton(tk.Button):\n",
    "    def __init__(self, master=None, suit=None, rank=None, value=None): # the arguments on this line are inbound, meaning we pass them when we instantiate the object\n",
    "        super().__init__(master) # on this line we call the __init__ method of tk.Button and pass the master attribute to it. This gives us all the button attributes and functionality\n",
    "        self.config(bg = 'green')\n",
    "\n",
    "        # the rest of the attributes in the main __init__ method are card attributes from our former card class\n",
    "        self.suit = suit\n",
    "        self.rank = rank # face rank of the card\n",
    "        self.value = value # integer value of the card\n",
    "        self.name = f\"{rank}_of_{suit}\"\n",
    "        self.face = f\"/Users/samuelnnadijr/Samuel INST326 Note/images/{rank} of {suit}.png\" # relative address\n",
    "        self.back = \"/Users/samuelnnadijr/Samuel INST326 Note/images/BackOfCard.png\"  # relative address\n",
    "        self.suit_val = suits.index(suit)\n",
    "        self.facetk = tk.PhotoImage(file = self.face) # calls the tk.PhotoImage method which creates an image object\n",
    "        self.backtk = tk.PhotoImage(file = self.back)\n",
    "        self.display = self.facetk # sets the default display\n",
    "        self.hand = None # an attribute that allows cards to be assigned to specific hands\n",
    "\n",
    "\n",
    "        # Bind mouse events\n",
    "        self.bind(\"<Enter>\", self.on_hover)\n",
    "        self.bind(\"<Leave>\", self.on_leave)\n",
    "\n",
    "    def on_hover(self, event): # change the background and card image when the cursor hovers over it\n",
    "        self.config(bg=\"lightblue\")  \n",
    "\n",
    "    def on_leave(self, event): # change back when not hovering\n",
    "        self.config(bg=\"green\", image=self.display)  # Restore original color\n",
    " \n",
    "    def ace_toggle(self): # toggle the value of an ace\n",
    "        if self.rank == 'ace':\n",
    "            if self.value == 11:\n",
    "                self.value = 1\n",
    "            else:\n",
    "                self.value = 11\n"
   ]
  },
  {
   "cell_type": "markdown",
   "id": "3e0cadbd",
   "metadata": {},
   "source": [
    "#### Initialize Game Variables"
   ]
  },
  {
   "cell_type": "code",
   "execution_count": 3,
   "id": "635d80c9",
   "metadata": {},
   "outputs": [],
   "source": [
    "# initialize your game variables here by adding your suits, ranks and values created in lab 01.\n",
    "suits = ['Clubs', 'Diamonds', 'Hearts', 'Spades']\n",
    "ranks = ['2', '3', '4', '5', '6', '7', '8', '9', '10', 'jack', 'queen','king','ace']\n",
    "card_values = [2,3,4,5,6,7,8,9,10,10,10,10,11]\n",
    "nplayers = 1 # for this project we are limiting the code to one player."
   ]
  },
  {
   "cell_type": "markdown",
   "id": "291b08c4",
   "metadata": {},
   "source": [
    "Remember, Python is a dynamically-typed language. We are not *declaring* the variables above. Rather, we are initializing or instantiating them because they are referenced in the code that follows."
   ]
  },
  {
   "cell_type": "markdown",
   "id": "592a3907",
   "metadata": {},
   "source": [
    "### Game Class"
   ]
  },
  {
   "cell_type": "markdown",
   "id": "fa95659c",
   "metadata": {},
   "source": [
    "In the cell below crete your game class. You can refer to labs 1 and 2, and reuse code created there, or in the code examples used in class. Your class shoud start with an __init__ method. It should also include definitions of the following methods: make_deck, deal, hit, stay, and call. (more on these in a bit.) You should also include a method to calculate the score for a given hand. You may include the code to shuffle the deck in your make_deck method so it returns a shuffled deck, or you may handle it separately as we have in the class examples. Be sure to document your code with comments."
   ]
  },
  {
   "cell_type": "code",
   "execution_count": 4,
   "id": "34ecf44f",
   "metadata": {},
   "outputs": [],
   "source": [
    "# Step 2\n",
    "\n",
    "\n",
    "class mygame(): \n",
    "    def __init__(self, suits = suits, ranks = ranks, card_values = card_values):\n",
    "        # These self's/attributes helps with using the code through out the class.\n",
    "        self.suits = suits\n",
    "        self.ranks = ranks\n",
    "        self.card_values = card_values\n",
    "        self.player1_hand = []\n",
    "        self.dealer_hand = []\n",
    "        self.player1_score = 0\n",
    "        self.dealer_score = 0    \n",
    "       # Step 3\n",
    "    # a methods for creating the deck, and returning the deck\n",
    "    def make_deck(self):\n",
    "        deck = [] \n",
    "        for suit in suits:      \n",
    "            for index, rank in enumerate(ranks):\n",
    "                value = card_values[index] \n",
    "                newcard = Cardbutton(window,suit,rank,value)\n",
    "                deck.append(newcard)\n",
    "        random.shuffle(deck)\n",
    "        return deck\n",
    "   \n",
    "\n",
    "     # Deals out 2 cards to the player and dealer, however, the dealer second card will be hidden for now.   \n",
    "    def deal(self, deck):\n",
    "        for index in range(0, 2):\n",
    "            self.player1_hand.append(deck.pop())\n",
    "            self.dealer_hand.append(deck.pop())\n",
    "\n",
    "            \n",
    "        self.dealer_hand[-1].display = self.dealer_hand[-1].backtk\n",
    "        \n",
    "      #  This adds a card to the players hand and helps display it in the players row\n",
    "    def hit(self): \n",
    "        new_card = deck.pop()\n",
    "        self.player1_hand.append(new_card)\n",
    "        new_card.grid(row=1, column=len(self.player1_hand), padx=5, pady=5)\n",
    "        \n",
    "        # Here is where to keep the score updated, and display the actually score for player\n",
    "        self.player1_score = self.score(self.player1_hand)\n",
    "        player1_label.config(text=f\"Player\\nScore: {self.player1_score}\")\n",
    "\n",
    "        # Here is where we will display dealers second card\n",
    "    def stay(self):\n",
    "        self.dealer_hand[-1].display = self.dealer_hand[-1].facetk\n",
    "        self.dealer_hand[-1].config(image=self.dealer_hand[-1].display) # Here make it display the card faster\n",
    "        \n",
    "        # Works the same way as hit(), but if dealer score is over 17, it wont work.\n",
    "        if self.dealer_score < 17:\n",
    "            for index in range(0, 1):\n",
    "                new_card = deck.pop()\n",
    "                self.dealer_hand.append(new_card)\n",
    "                new_card.grid(row=2, column=len(self.dealer_hand), padx=5, pady=5)\n",
    "        self.dealer_score = self.score(self.dealer_hand)\n",
    "        dealer_label.config(text=f\"Dealer\\nScore: {self.dealer_score}\")\n",
    "        \n",
    "    \n",
    "    # This is how we are able to calculate the scores\n",
    "    def score(self,hand):\n",
    "        total = 0    \n",
    "        for card in hand: \n",
    "            total += card.value       \n",
    "        return total \n",
    "    \n",
    "    # Here is where we decided who has won\n",
    "    \n",
    "    # First we update the scores\n",
    "    def call(self):\n",
    "        self.player1_score = self.score(self.player1_hand)\n",
    "        self.dealer_score = self.score(self.dealer_hand)\n",
    "\n",
    "        # Here we display the scores\n",
    "        player1_label.config(text=f\"Player 1\\nScore: {self.player1_score}\")\n",
    "        dealer_label.config(text=f\"Dealer\\nScore: {self.dealer_score}\")\n",
    "\n",
    "        # Lastly here is where we decided who has won\n",
    "        if self.player1_score > 21 and self.dealer_score > 21:\n",
    "            \n",
    "            call_label = Label(window,text='No one wins, leave NOW',bd=0,background = \n",
    "                                  '#fcba03',fg = '#FFFFFF',font = ('Gill Sans','20'))\n",
    "            call_label.grid(row = 5, column = 1)\n",
    "\n",
    "        elif self.player1_score == self.dealer_score:\n",
    "            \n",
    "            call_label = Label(window,text='Looks like we got a tie',bd=0,background = \n",
    "                                  '#fcba03',fg = '#FFFFFF',font = ('Gill Sans','20'))\n",
    "            call_label.grid(row = 5, column = 1)\n",
    "            \n",
    "        \n",
    "        elif self.dealer_score > 21:\n",
    "            \n",
    "            call_label = Label(window,text='Winner winner, chicken dinner!',bd=0,background = \n",
    "                                  '#fcba03',fg = '#FFFFFF',font = ('Gill Sans','20'))\n",
    "            call_label.grid(row = 5, column = 1)\n",
    "\n",
    "        elif self.player1_score > 21:\n",
    "            call_label = Label(window,text='The hosue wins, cry about it',bd=0,background = \n",
    "                                  '#fcba03',fg = '#FFFFFF',font = ('Gill Sans','20'))\n",
    "            call_label.grid(row = 5, column = 1)\n",
    "            \n",
    "            \n",
    "    def quit():\n",
    "        window.destroy()"
   ]
  },
  {
   "cell_type": "markdown",
   "id": "ce26809e",
   "metadata": {},
   "source": [
    "Class notes\n",
    "(add any additional notes you want relative to your game class in this cell. You do not need to repeat information included in comments within the code.)"
   ]
  },
  {
   "cell_type": "code",
   "execution_count": null,
   "id": "2986c2b1-dbff-4127-9398-45b2495ae53e",
   "metadata": {},
   "outputs": [],
   "source": []
  },
  {
   "cell_type": "markdown",
   "id": "4737cae0",
   "metadata": {
    "tags": []
   },
   "source": [
    "### Main Execution"
   ]
  },
  {
   "cell_type": "markdown",
   "id": "631889fc",
   "metadata": {
    "tags": []
   },
   "source": [
    "Write your main execution code in the code cell below. Be sure to document your code with comments. You may reuse and/or modify code from Lab 1, Lab 2, and/or the class examples as needed. DO NOT copy code from online examples or use generative AI like ChatGPT to generate your code. You may follow the examples in the BroCode video.\n",
    "\n",
    "#### Instructions\n",
    "1. Create a window and name it 'Project 01: Blackjack Game'. Refer to lab 02.\n",
    "2. Instantiate a game and name it mygame.\n",
    "3. Create a shuffled deck named mydeck using the make_deck method from your new game instance, mygame. Remember that every card in your deck is actually a tkinter button. You have instantiated them but have not added them to the window yet.\n",
    "4. Create two hands, one for player1 and one for the dealer, and deal the hands using the deal method you created in your mygame instance. You may create the hands in the main code cell, or you may create a method within your game class - it's your choice (method in the game class might be better). Set the 'hand' attribute of each card to reflect the hand it belongs to. (Hint: if you create a method, you might consider adding two attributes to your class: player1_hand and dealer_hand. Set them to empty lists [] by default.)\n",
    "5. Either during the deal or after, set the 'display' attribute of the second card dealt to the dealer to 'backtk'. Take a look at the Cardbutton class and notice that the display attribute is set to 'facetk' by default.  <font color = red>**Change to the display requirements: All player cards to be displayed face-up. Second dealer card to be displayed face-down.**</font>  \n",
    "6. Create a method in your game class to calculate the score (sum of card values) for each hand - player1 and dealer. Hint: you might create player1_score and dealer_score attributes in your game class. Set the to 0 by default.\n",
    "7. Create two tkinter labels, one for player1 and 1 for the dealer. The text for each label should display as two lines (include '\\n' where you want the line break.) The first line should display the player or players name (you could include an input statement to get the player's name). The second line should include the player's score. EXCEPT: do not show the dealers score until after the 'Call' button is pressed.\n",
    "8. Create four regular buttons (not Cardbuttons) using the tk.Button() method: Hit, Stay, Call, and Quit. The command= attribute should reference the respective methods you created (or will create) in the game class. See Below.\n",
    "8a. hit button / hit method. the hit method should draw a card from the deck and add it to the player's (or dealer's) hand, updating the card's 'hand' attribute. The player's (or dealer's) score should be updated to reflect the value of the additional card. The players (or dealer's) label should be updated with the new score using the label.config() method. The new card should be added to the window - face up.\n",
    "8b. stay button / stay method. the stay button is clicked when player1 has taken all the hit cards they want. the stay method then initiates an automated 'hit' sequence for the dealer according to the following rule: if dealer_score < 17, hit; else stay. Dealer's score and cards in the window are updated with each hit.\n",
    "8c. call button / call method. Onece the dealer's hand has been updated in the stay method, the player presses the call button to compute and display all scores, show all cards, determine a winner, and display the winner message in the window. If both the player and dealer scores are greater than 21, there is no winner. if the scores are the same it is a tie. Else, the hand with the closest score <= 21 is the winner. If it is the player, display the message \"Winner winner, chicken dinner!\" in the window. If the dealer wins, display \"House wins.\" in the window.\n",
    "8d. quit button: the command= attribute should be: command=window.destroy. That will close the window and end the program.\n",
    "9. Add all your widgets to the window. We will be using tkinter grid layout (refer to lab 2). add 20px of padding (x and y) to each item.\n",
    "9a. add player1 label to row 1, column 0. Add dealer label to row 2, column 0.\n",
    "9b. Create a loop to add your cards. player cards in row 1, dealer cards in row 2.\n",
    "9c. Add your four play buttons (hit, stay, call, and quit) to row 3 and columns 0, 1, 2, and 3, respectively.\n",
    "10. ~Add a 'peek' method that allows the player to see the cards in their hand. You may do this in one of two ways - your choice.~  \n",
    "~10a. Display the player's cards face up in a new window (refer to Lab 02) *OR:*  \n",
    "10b. Modify the Cardbutton.on_hover() method as follows: add image=self.facetk to the self.config() statement (refer to the on_leave() method for format. Then place the self.config() statement inside an if statement that only executes self.config() if self.hand == 'player1'. else, it's just self.config(bg=\"lightblue\"). This conditional loop prevents the player from peeking at the dealer's cards.~  <font color = red>*Since players hands will be displayed face-up, the functionality in step 10 is no longer needed.*</font>  \n",
    "11. Make sure your last line is: window.mainloop()\n",
    "12. Document your code with comments.\n",
    "\n"
   ]
  },
  {
   "cell_type": "markdown",
   "id": "4c028fa1",
   "metadata": {},
   "source": [
    "One final note: When developing your tkinter code in Jupyter notebook, crashes tend to wreak havok on the kernal and further functioning of your program. If you start getting error messages for code you think should work, try restarting the kernal and clearing all output under the Kernal menu item above. Sometimes it takes a few seconds, so wait for all your old output and error messages to disappear."
   ]
  },
  {
   "cell_type": "code",
   "execution_count": 5,
   "id": "f8ffed2b",
   "metadata": {},
   "outputs": [],
   "source": [
    "# Write your main execution here\n",
    "\n",
    "window = tk.Tk()\n",
    "window.title(\"Project 01: Blackjack Game\")\n",
    "window.geometry('800x500')\n",
    "window.config(bg='green')\n",
    "\n",
    "# To create an instance of the game and and call method of that instance \n",
    "my_game = mygame()\n",
    "deck = my_game.make_deck()\n",
    "my_game.deal(deck)\n",
    "\n",
    "# Here we are creating the label for the Player\n",
    "player1_label = Label(window,text='Player\\nScore: ???',\n",
    "                      bd=0,background = '#fcba03',fg = '#FFFFFF',font = ('Gill Sans','20'))\n",
    "player1_label.grid(row = 1, column = 0)\n",
    "# Here we are creating the label for the Dealer\n",
    "dealer_label = Label(window,text='Dealer\\nScore: ???',bd=0, background = '#00FFFF',fg = '#FFFFFF', font = ('Gill Sans','20'))\n",
    "dealer_label.grid(row = 2, column = 0)\n",
    "\n",
    "\n",
    "# To the display the players cards on the window\n",
    "for index, playerCard in enumerate(my_game.player1_hand):\n",
    "    cardImg = PhotoImage(file = playerCard.face)\n",
    "    cardButton = Button(window, image = cardImg, bd = 0)\n",
    "    cardButton.image = cardImg\n",
    "    cardButton.grid(row = 1, column = index+1, padx=5, pady=5)\n",
    "    \n",
    "    \n",
    "# Does the same as the player display, but this on works with \n",
    "# hiding the second card, additionally, it will display when you hover over it.\n",
    "for index, card in enumerate(my_game.dealer_hand):\n",
    "    card.grid(row=2, column=index+1, padx=20, pady=20)\n",
    "    \n",
    "# Here are the Buttons for some of the methods in the mygame class\n",
    "quit_button = Button(window, text=\"quit\", command=window.destroy)\n",
    "quit_button.grid(row=3, column=3)\n",
    "\n",
    "call_button = Button(window, text=\"Call\", command=my_game.call)\n",
    "call_button.grid(row=3, column=2)\n",
    "\n",
    "hit_button = Button(window, text=\"Hit Me\", command=my_game.hit)\n",
    "hit_button.grid(row=3, column=1)\n",
    "\n",
    "Stay_button = Button(window, text=\"Stay\", command=my_game.stay)\n",
    "Stay_button.grid(row=3, column=0)\n",
    "window.mainloop()"
   ]
  },
  {
   "cell_type": "markdown",
   "id": "0a72e996",
   "metadata": {},
   "source": [
    "Main execution notes.\n",
    "(add any additional notes here. Do not repeat what you have already documented in the code.)"
   ]
  },
  {
   "cell_type": "markdown",
   "id": "ee3d0f5d",
   "metadata": {},
   "source": [
    "### Extra Credit"
   ]
  },
  {
   "cell_type": "markdown",
   "id": "b41047c3",
   "metadata": {},
   "source": [
    "10 points extra credit will be awarded for converting all code to work with the import statement import tkinter as tk instead of 'from tkinter import * '. To claim the extra credit:\n",
    "1. Make the necessary code edits\n",
    "2. Comment out the 'from tkinter import * ' statement in the imports cell at the top of this notebook.\n",
    "3. Enter 'My code works. I claim 10 points of extra credit.' in the cell below."
   ]
  },
  {
   "cell_type": "markdown",
   "id": "9da8acce",
   "metadata": {},
   "source": [
    "Enter your text here"
   ]
  },
  {
   "cell_type": "markdown",
   "id": "eb2afe0f",
   "metadata": {},
   "source": [
    "#### A Helpful Check"
   ]
  },
  {
   "cell_type": "markdown",
   "id": "acf139c3",
   "metadata": {},
   "source": [
    "The following code is borrowed from the in-class example and may be used to take a look at the attributes of your card objects after you create your deck. See the GUI example for additional notes."
   ]
  },
  {
   "cell_type": "code",
   "execution_count": 6,
   "id": "c53a1ee9",
   "metadata": {},
   "outputs": [
    {
     "ename": "NameError",
     "evalue": "name 'mydeck' is not defined",
     "output_type": "error",
     "traceback": [
      "\u001b[0;31m---------------------------------------------------------------------------\u001b[0m",
      "\u001b[0;31mNameError\u001b[0m                                 Traceback (most recent call last)",
      "Cell \u001b[0;32mIn[6], line 1\u001b[0m\n\u001b[0;32m----> 1\u001b[0m mycard \u001b[38;5;241m=\u001b[39m mydeck\u001b[38;5;241m.\u001b[39mpop()\n\u001b[1;32m      2\u001b[0m \u001b[38;5;28mprint\u001b[39m(mycard)\n\u001b[1;32m      3\u001b[0m \u001b[38;5;28mprint\u001b[39m()\n",
      "\u001b[0;31mNameError\u001b[0m: name 'mydeck' is not defined"
     ]
    }
   ],
   "source": [
    "mycard = mydeck.pop()\n",
    "print(mycard)\n",
    "print()\n",
    "print(vars(mycard))\n",
    "print()\n",
    "print(mycard.name)"
   ]
  },
  {
   "cell_type": "markdown",
   "id": "8e5229fa-7ccf-4e3a-916c-b2b04ec90672",
   "metadata": {},
   "source": [
    "I'm dropping a review for the project here. I did the same thing in INST126, so it has become a habit. \n",
    "\n",
    "For the mygame class part, it was lots of trial and error. Before, I tried using global Instead of adding \"self\" to most of my attributes, but I kept getting errors, so I didn't use global. Additionally, mygame was the one that took most of the time, especially the hit(), which took the longest since the code for the hit() is crucial for the other methods so that one had to be created first.\n",
    "\n",
    "For the main, one of the main problems I ran to is using pack(), and grid(). I didn't realize I really couldn't use those two like the way I used them in lab 2. I decided is mainly use grid(), so I could display how the game should work. \n",
    "\n",
    "Overall, this project was good; thank so much for the TA's for the help, and thank you Professor, for giving us more time with the project. \n",
    "\n",
    "I need to work on improving my speed with creating and understanding code. Lots of time when I'm looking at code, it feels like it fry my brain and I need to take a break.\n"
   ]
  }
 ],
 "metadata": {
  "kernelspec": {
   "display_name": "Python 3 (ipykernel)",
   "language": "python",
   "name": "python3"
  },
  "language_info": {
   "codemirror_mode": {
    "name": "ipython",
    "version": 3
   },
   "file_extension": ".py",
   "mimetype": "text/x-python",
   "name": "python",
   "nbconvert_exporter": "python",
   "pygments_lexer": "ipython3",
   "version": "3.11.4"
  }
 },
 "nbformat": 4,
 "nbformat_minor": 5
}
